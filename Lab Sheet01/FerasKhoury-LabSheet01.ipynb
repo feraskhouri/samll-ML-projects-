{
 "cells": [
  {
   "cell_type": "code",
   "execution_count": 10,
   "metadata": {},
   "outputs": [],
   "source": [
    "import pandas as pd \n",
    "from sklearn.preprocessing import StandardScaler\n",
    "import numpy as np\n",
    "import seaborn as sns\n",
    "import matplotlib.pyplot as plt\n",
    "\n"
   ]
  },
  {
   "cell_type": "code",
   "execution_count": 1,
   "metadata": {},
   "outputs": [
    {
     "name": "stdout",
     "output_type": "stream",
     "text": [
      "          Id            Artist Name                           Track Name  \\\n",
      "0          1      Marina Maximilian                           Not Afraid   \n",
      "1          2         The Black Keys                      Howlin' for You   \n",
      "2          3    Royal & the Serpent                              phuck u   \n",
      "3          4     Detroit Blues Band                          Missing You   \n",
      "4          5           Coast Contra                              My Lady   \n",
      "...      ...                    ...                                  ...   \n",
      "14391  14392                  NOISY                    I Wish I Was A...   \n",
      "14392  14393              BLOODSPOT  Deadline Story (feat. Patrick Boos)   \n",
      "14393  14394             Cold Years                         Too Far Gone   \n",
      "14394  14395  The Jaded Hearts Club              Reach Out I'll Be There   \n",
      "14395  14396          Freddy Fender       Before the Next Teardrop Falls   \n",
      "\n",
      "       Popularity  danceability  energy   key  loudness  mode  speechiness  \\\n",
      "0            37.0         0.334   0.536   9.0    -6.649     0       0.0381   \n",
      "1            67.0         0.725   0.747  11.0    -5.545     1       0.0876   \n",
      "2             NaN         0.584   0.804   7.0    -6.094     1       0.0619   \n",
      "3            12.0         0.515   0.308   NaN   -14.711     1       0.0312   \n",
      "4            48.0         0.565   0.777   6.0    -5.096     0       0.2490   \n",
      "...           ...           ...     ...   ...       ...   ...          ...   \n",
      "14391        47.0         0.607   0.946   1.0    -2.965     1       0.1500   \n",
      "14392        27.0         0.435   0.951   8.0    -7.475     1       0.0576   \n",
      "14393        22.0         0.415   0.941  11.0    -4.300     1       0.0524   \n",
      "14394        37.0         0.493   0.986   1.0    -2.279     1       0.0917   \n",
      "14395        50.0         0.799   0.345  10.0   -11.520     1       0.0276   \n",
      "\n",
      "       acousticness  instrumentalness  liveness  valence    tempo  \\\n",
      "0          0.378000               NaN    0.1060    0.235  152.429   \n",
      "1          0.027200          0.046800    0.1040    0.380  132.921   \n",
      "2          0.000968          0.635000    0.2840    0.635  159.953   \n",
      "3          0.907000          0.021300    0.3000    0.501  172.472   \n",
      "4          0.183000               NaN    0.2110    0.619   88.311   \n",
      "...             ...               ...       ...      ...      ...   \n",
      "14391      0.005480          0.000390    0.2780    0.653  120.011   \n",
      "14392      0.000005          0.550000    0.0952    0.203  135.034   \n",
      "14393      0.001810          0.000004    0.3370    0.572  167.978   \n",
      "14394      0.000967          0.006620    0.1230    0.567  122.036   \n",
      "14395      0.748000          0.000024    0.1690    0.776   90.417   \n",
      "\n",
      "       duration_in min/ms  time_signature  Class  \n",
      "0           204947.000000               4      9  \n",
      "1           191956.000000               4      6  \n",
      "2           161037.000000               4     10  \n",
      "3           298093.000000               3      2  \n",
      "4           254145.000000               4      5  \n",
      "...                   ...             ...    ...  \n",
      "14391       195181.000000               4     10  \n",
      "14392       282043.000000               4      8  \n",
      "14393       176529.000000               4     10  \n",
      "14394       186307.000000               4     10  \n",
      "14395            2.614567               4      4  \n",
      "\n",
      "[14396 rows x 18 columns]\n"
     ]
    },
    {
     "data": {
      "text/html": [
       "<div>\n",
       "<style scoped>\n",
       "    .dataframe tbody tr th:only-of-type {\n",
       "        vertical-align: middle;\n",
       "    }\n",
       "\n",
       "    .dataframe tbody tr th {\n",
       "        vertical-align: top;\n",
       "    }\n",
       "\n",
       "    .dataframe thead th {\n",
       "        text-align: right;\n",
       "    }\n",
       "</style>\n",
       "<table border=\"1\" class=\"dataframe\">\n",
       "  <thead>\n",
       "    <tr style=\"text-align: right;\">\n",
       "      <th></th>\n",
       "      <th>Id</th>\n",
       "      <th>Artist Name</th>\n",
       "      <th>Track Name</th>\n",
       "      <th>Popularity</th>\n",
       "      <th>danceability</th>\n",
       "      <th>energy</th>\n",
       "      <th>key</th>\n",
       "      <th>loudness</th>\n",
       "      <th>mode</th>\n",
       "      <th>speechiness</th>\n",
       "      <th>acousticness</th>\n",
       "      <th>instrumentalness</th>\n",
       "      <th>liveness</th>\n",
       "      <th>valence</th>\n",
       "      <th>tempo</th>\n",
       "      <th>duration_in min/ms</th>\n",
       "      <th>time_signature</th>\n",
       "      <th>Class</th>\n",
       "    </tr>\n",
       "  </thead>\n",
       "  <tbody>\n",
       "    <tr>\n",
       "      <th>0</th>\n",
       "      <td>1</td>\n",
       "      <td>Marina Maximilian</td>\n",
       "      <td>Not Afraid</td>\n",
       "      <td>37.0</td>\n",
       "      <td>0.334</td>\n",
       "      <td>0.536</td>\n",
       "      <td>9.0</td>\n",
       "      <td>-6.649</td>\n",
       "      <td>0</td>\n",
       "      <td>0.0381</td>\n",
       "      <td>0.378000</td>\n",
       "      <td>NaN</td>\n",
       "      <td>0.106</td>\n",
       "      <td>0.235</td>\n",
       "      <td>152.429</td>\n",
       "      <td>204947.0</td>\n",
       "      <td>4</td>\n",
       "      <td>9</td>\n",
       "    </tr>\n",
       "    <tr>\n",
       "      <th>1</th>\n",
       "      <td>2</td>\n",
       "      <td>The Black Keys</td>\n",
       "      <td>Howlin' for You</td>\n",
       "      <td>67.0</td>\n",
       "      <td>0.725</td>\n",
       "      <td>0.747</td>\n",
       "      <td>11.0</td>\n",
       "      <td>-5.545</td>\n",
       "      <td>1</td>\n",
       "      <td>0.0876</td>\n",
       "      <td>0.027200</td>\n",
       "      <td>0.0468</td>\n",
       "      <td>0.104</td>\n",
       "      <td>0.380</td>\n",
       "      <td>132.921</td>\n",
       "      <td>191956.0</td>\n",
       "      <td>4</td>\n",
       "      <td>6</td>\n",
       "    </tr>\n",
       "    <tr>\n",
       "      <th>2</th>\n",
       "      <td>3</td>\n",
       "      <td>Royal &amp; the Serpent</td>\n",
       "      <td>phuck u</td>\n",
       "      <td>NaN</td>\n",
       "      <td>0.584</td>\n",
       "      <td>0.804</td>\n",
       "      <td>7.0</td>\n",
       "      <td>-6.094</td>\n",
       "      <td>1</td>\n",
       "      <td>0.0619</td>\n",
       "      <td>0.000968</td>\n",
       "      <td>0.6350</td>\n",
       "      <td>0.284</td>\n",
       "      <td>0.635</td>\n",
       "      <td>159.953</td>\n",
       "      <td>161037.0</td>\n",
       "      <td>4</td>\n",
       "      <td>10</td>\n",
       "    </tr>\n",
       "    <tr>\n",
       "      <th>3</th>\n",
       "      <td>4</td>\n",
       "      <td>Detroit Blues Band</td>\n",
       "      <td>Missing You</td>\n",
       "      <td>12.0</td>\n",
       "      <td>0.515</td>\n",
       "      <td>0.308</td>\n",
       "      <td>NaN</td>\n",
       "      <td>-14.711</td>\n",
       "      <td>1</td>\n",
       "      <td>0.0312</td>\n",
       "      <td>0.907000</td>\n",
       "      <td>0.0213</td>\n",
       "      <td>0.300</td>\n",
       "      <td>0.501</td>\n",
       "      <td>172.472</td>\n",
       "      <td>298093.0</td>\n",
       "      <td>3</td>\n",
       "      <td>2</td>\n",
       "    </tr>\n",
       "    <tr>\n",
       "      <th>4</th>\n",
       "      <td>5</td>\n",
       "      <td>Coast Contra</td>\n",
       "      <td>My Lady</td>\n",
       "      <td>48.0</td>\n",
       "      <td>0.565</td>\n",
       "      <td>0.777</td>\n",
       "      <td>6.0</td>\n",
       "      <td>-5.096</td>\n",
       "      <td>0</td>\n",
       "      <td>0.2490</td>\n",
       "      <td>0.183000</td>\n",
       "      <td>NaN</td>\n",
       "      <td>0.211</td>\n",
       "      <td>0.619</td>\n",
       "      <td>88.311</td>\n",
       "      <td>254145.0</td>\n",
       "      <td>4</td>\n",
       "      <td>5</td>\n",
       "    </tr>\n",
       "  </tbody>\n",
       "</table>\n",
       "</div>"
      ],
      "text/plain": [
       "   Id          Artist Name       Track Name  Popularity  danceability  energy  \\\n",
       "0   1    Marina Maximilian       Not Afraid        37.0         0.334   0.536   \n",
       "1   2       The Black Keys  Howlin' for You        67.0         0.725   0.747   \n",
       "2   3  Royal & the Serpent          phuck u         NaN         0.584   0.804   \n",
       "3   4   Detroit Blues Band      Missing You        12.0         0.515   0.308   \n",
       "4   5         Coast Contra          My Lady        48.0         0.565   0.777   \n",
       "\n",
       "    key  loudness  mode  speechiness  acousticness  instrumentalness  \\\n",
       "0   9.0    -6.649     0       0.0381      0.378000               NaN   \n",
       "1  11.0    -5.545     1       0.0876      0.027200            0.0468   \n",
       "2   7.0    -6.094     1       0.0619      0.000968            0.6350   \n",
       "3   NaN   -14.711     1       0.0312      0.907000            0.0213   \n",
       "4   6.0    -5.096     0       0.2490      0.183000               NaN   \n",
       "\n",
       "   liveness  valence    tempo  duration_in min/ms  time_signature  Class  \n",
       "0     0.106    0.235  152.429            204947.0               4      9  \n",
       "1     0.104    0.380  132.921            191956.0               4      6  \n",
       "2     0.284    0.635  159.953            161037.0               4     10  \n",
       "3     0.300    0.501  172.472            298093.0               3      2  \n",
       "4     0.211    0.619   88.311            254145.0               4      5  "
      ]
     },
     "execution_count": 1,
     "metadata": {},
     "output_type": "execute_result"
    }
   ],
   "source": [
    "import pandas as pd   \n",
    "    # making dataframe using the uploaded csv dataset \n",
    "df = pd.read_csv(\"train (1).csv\")   \n",
    "   # output the dataframe  \n",
    "print(df) \n",
    "df.head()"
   ]
  },
  {
   "cell_type": "code",
   "execution_count": 2,
   "metadata": {},
   "outputs": [
    {
     "name": "stdout",
     "output_type": "stream",
     "text": [
      "<class 'pandas.core.frame.DataFrame'>\n",
      "RangeIndex: 14396 entries, 0 to 14395\n",
      "Data columns (total 18 columns):\n",
      " #   Column              Non-Null Count  Dtype  \n",
      "---  ------              --------------  -----  \n",
      " 0   Id                  14396 non-null  int64  \n",
      " 1   Artist Name         14396 non-null  object \n",
      " 2   Track Name          14396 non-null  object \n",
      " 3   Popularity          14063 non-null  float64\n",
      " 4   danceability        14396 non-null  float64\n",
      " 5   energy              14396 non-null  float64\n",
      " 6   key                 12787 non-null  float64\n",
      " 7   loudness            14396 non-null  float64\n",
      " 8   mode                14396 non-null  int64  \n",
      " 9   speechiness         14396 non-null  float64\n",
      " 10  acousticness        14396 non-null  float64\n",
      " 11  instrumentalness    10855 non-null  float64\n",
      " 12  liveness            14396 non-null  float64\n",
      " 13  valence             14396 non-null  float64\n",
      " 14  tempo               14396 non-null  float64\n",
      " 15  duration_in min/ms  14396 non-null  float64\n",
      " 16  time_signature      14396 non-null  int64  \n",
      " 17  Class               14396 non-null  int64  \n",
      "dtypes: float64(12), int64(4), object(2)\n",
      "memory usage: 2.0+ MB\n"
     ]
    }
   ],
   "source": [
    "df.info()"
   ]
  },
  {
   "cell_type": "code",
   "execution_count": 3,
   "metadata": {},
   "outputs": [
    {
     "data": {
      "text/html": [
       "<div>\n",
       "<style scoped>\n",
       "    .dataframe tbody tr th:only-of-type {\n",
       "        vertical-align: middle;\n",
       "    }\n",
       "\n",
       "    .dataframe tbody tr th {\n",
       "        vertical-align: top;\n",
       "    }\n",
       "\n",
       "    .dataframe thead th {\n",
       "        text-align: right;\n",
       "    }\n",
       "</style>\n",
       "<table border=\"1\" class=\"dataframe\">\n",
       "  <thead>\n",
       "    <tr style=\"text-align: right;\">\n",
       "      <th></th>\n",
       "      <th>Id</th>\n",
       "      <th>Popularity</th>\n",
       "      <th>danceability</th>\n",
       "      <th>energy</th>\n",
       "      <th>key</th>\n",
       "      <th>loudness</th>\n",
       "      <th>mode</th>\n",
       "      <th>speechiness</th>\n",
       "      <th>acousticness</th>\n",
       "      <th>instrumentalness</th>\n",
       "      <th>liveness</th>\n",
       "      <th>valence</th>\n",
       "      <th>tempo</th>\n",
       "      <th>duration_in min/ms</th>\n",
       "      <th>time_signature</th>\n",
       "      <th>Class</th>\n",
       "    </tr>\n",
       "  </thead>\n",
       "  <tbody>\n",
       "    <tr>\n",
       "      <th>count</th>\n",
       "      <td>14396.000000</td>\n",
       "      <td>14063.000000</td>\n",
       "      <td>14396.000000</td>\n",
       "      <td>14396.000000</td>\n",
       "      <td>12787.000000</td>\n",
       "      <td>14396.000000</td>\n",
       "      <td>14396.000000</td>\n",
       "      <td>14396.000000</td>\n",
       "      <td>14396.000000</td>\n",
       "      <td>10855.000000</td>\n",
       "      <td>14396.000000</td>\n",
       "      <td>14396.000000</td>\n",
       "      <td>14396.000000</td>\n",
       "      <td>1.439600e+04</td>\n",
       "      <td>14396.000000</td>\n",
       "      <td>14396.000000</td>\n",
       "    </tr>\n",
       "    <tr>\n",
       "      <th>mean</th>\n",
       "      <td>7198.500000</td>\n",
       "      <td>44.525208</td>\n",
       "      <td>0.543105</td>\n",
       "      <td>0.662422</td>\n",
       "      <td>5.953781</td>\n",
       "      <td>-7.900852</td>\n",
       "      <td>0.640247</td>\n",
       "      <td>0.080181</td>\n",
       "      <td>0.246746</td>\n",
       "      <td>0.178129</td>\n",
       "      <td>0.195782</td>\n",
       "      <td>0.486379</td>\n",
       "      <td>122.695372</td>\n",
       "      <td>2.000942e+05</td>\n",
       "      <td>3.924354</td>\n",
       "      <td>6.695679</td>\n",
       "    </tr>\n",
       "    <tr>\n",
       "      <th>std</th>\n",
       "      <td>4155.911573</td>\n",
       "      <td>17.418940</td>\n",
       "      <td>0.165517</td>\n",
       "      <td>0.235967</td>\n",
       "      <td>3.200013</td>\n",
       "      <td>4.057362</td>\n",
       "      <td>0.479944</td>\n",
       "      <td>0.085157</td>\n",
       "      <td>0.310922</td>\n",
       "      <td>0.304266</td>\n",
       "      <td>0.159258</td>\n",
       "      <td>0.239476</td>\n",
       "      <td>29.538490</td>\n",
       "      <td>1.116891e+05</td>\n",
       "      <td>0.359520</td>\n",
       "      <td>3.206170</td>\n",
       "    </tr>\n",
       "    <tr>\n",
       "      <th>min</th>\n",
       "      <td>1.000000</td>\n",
       "      <td>1.000000</td>\n",
       "      <td>0.059600</td>\n",
       "      <td>0.001210</td>\n",
       "      <td>1.000000</td>\n",
       "      <td>-39.952000</td>\n",
       "      <td>0.000000</td>\n",
       "      <td>0.022500</td>\n",
       "      <td>0.000000</td>\n",
       "      <td>0.000001</td>\n",
       "      <td>0.011900</td>\n",
       "      <td>0.021500</td>\n",
       "      <td>30.557000</td>\n",
       "      <td>5.016500e-01</td>\n",
       "      <td>1.000000</td>\n",
       "      <td>0.000000</td>\n",
       "    </tr>\n",
       "    <tr>\n",
       "      <th>25%</th>\n",
       "      <td>3599.750000</td>\n",
       "      <td>33.000000</td>\n",
       "      <td>0.432000</td>\n",
       "      <td>0.508000</td>\n",
       "      <td>3.000000</td>\n",
       "      <td>-9.538000</td>\n",
       "      <td>0.000000</td>\n",
       "      <td>0.034800</td>\n",
       "      <td>0.004280</td>\n",
       "      <td>0.000088</td>\n",
       "      <td>0.097275</td>\n",
       "      <td>0.299000</td>\n",
       "      <td>99.799000</td>\n",
       "      <td>1.654458e+05</td>\n",
       "      <td>4.000000</td>\n",
       "      <td>5.000000</td>\n",
       "    </tr>\n",
       "    <tr>\n",
       "      <th>50%</th>\n",
       "      <td>7198.500000</td>\n",
       "      <td>44.000000</td>\n",
       "      <td>0.545000</td>\n",
       "      <td>0.699000</td>\n",
       "      <td>6.000000</td>\n",
       "      <td>-7.013500</td>\n",
       "      <td>1.000000</td>\n",
       "      <td>0.047100</td>\n",
       "      <td>0.081450</td>\n",
       "      <td>0.003920</td>\n",
       "      <td>0.129000</td>\n",
       "      <td>0.480500</td>\n",
       "      <td>120.060000</td>\n",
       "      <td>2.089410e+05</td>\n",
       "      <td>4.000000</td>\n",
       "      <td>8.000000</td>\n",
       "    </tr>\n",
       "    <tr>\n",
       "      <th>75%</th>\n",
       "      <td>10797.250000</td>\n",
       "      <td>56.000000</td>\n",
       "      <td>0.658000</td>\n",
       "      <td>0.861000</td>\n",
       "      <td>9.000000</td>\n",
       "      <td>-5.162000</td>\n",
       "      <td>1.000000</td>\n",
       "      <td>0.083100</td>\n",
       "      <td>0.432250</td>\n",
       "      <td>0.201000</td>\n",
       "      <td>0.256000</td>\n",
       "      <td>0.672000</td>\n",
       "      <td>141.988250</td>\n",
       "      <td>2.522470e+05</td>\n",
       "      <td>4.000000</td>\n",
       "      <td>10.000000</td>\n",
       "    </tr>\n",
       "    <tr>\n",
       "      <th>max</th>\n",
       "      <td>14396.000000</td>\n",
       "      <td>100.000000</td>\n",
       "      <td>0.989000</td>\n",
       "      <td>1.000000</td>\n",
       "      <td>11.000000</td>\n",
       "      <td>1.342000</td>\n",
       "      <td>1.000000</td>\n",
       "      <td>0.955000</td>\n",
       "      <td>0.996000</td>\n",
       "      <td>0.996000</td>\n",
       "      <td>0.992000</td>\n",
       "      <td>0.986000</td>\n",
       "      <td>217.416000</td>\n",
       "      <td>1.477187e+06</td>\n",
       "      <td>5.000000</td>\n",
       "      <td>10.000000</td>\n",
       "    </tr>\n",
       "  </tbody>\n",
       "</table>\n",
       "</div>"
      ],
      "text/plain": [
       "                 Id    Popularity  danceability        energy           key  \\\n",
       "count  14396.000000  14063.000000  14396.000000  14396.000000  12787.000000   \n",
       "mean    7198.500000     44.525208      0.543105      0.662422      5.953781   \n",
       "std     4155.911573     17.418940      0.165517      0.235967      3.200013   \n",
       "min        1.000000      1.000000      0.059600      0.001210      1.000000   \n",
       "25%     3599.750000     33.000000      0.432000      0.508000      3.000000   \n",
       "50%     7198.500000     44.000000      0.545000      0.699000      6.000000   \n",
       "75%    10797.250000     56.000000      0.658000      0.861000      9.000000   \n",
       "max    14396.000000    100.000000      0.989000      1.000000     11.000000   \n",
       "\n",
       "           loudness          mode   speechiness  acousticness  \\\n",
       "count  14396.000000  14396.000000  14396.000000  14396.000000   \n",
       "mean      -7.900852      0.640247      0.080181      0.246746   \n",
       "std        4.057362      0.479944      0.085157      0.310922   \n",
       "min      -39.952000      0.000000      0.022500      0.000000   \n",
       "25%       -9.538000      0.000000      0.034800      0.004280   \n",
       "50%       -7.013500      1.000000      0.047100      0.081450   \n",
       "75%       -5.162000      1.000000      0.083100      0.432250   \n",
       "max        1.342000      1.000000      0.955000      0.996000   \n",
       "\n",
       "       instrumentalness      liveness       valence         tempo  \\\n",
       "count      10855.000000  14396.000000  14396.000000  14396.000000   \n",
       "mean           0.178129      0.195782      0.486379    122.695372   \n",
       "std            0.304266      0.159258      0.239476     29.538490   \n",
       "min            0.000001      0.011900      0.021500     30.557000   \n",
       "25%            0.000088      0.097275      0.299000     99.799000   \n",
       "50%            0.003920      0.129000      0.480500    120.060000   \n",
       "75%            0.201000      0.256000      0.672000    141.988250   \n",
       "max            0.996000      0.992000      0.986000    217.416000   \n",
       "\n",
       "       duration_in min/ms  time_signature         Class  \n",
       "count        1.439600e+04    14396.000000  14396.000000  \n",
       "mean         2.000942e+05        3.924354      6.695679  \n",
       "std          1.116891e+05        0.359520      3.206170  \n",
       "min          5.016500e-01        1.000000      0.000000  \n",
       "25%          1.654458e+05        4.000000      5.000000  \n",
       "50%          2.089410e+05        4.000000      8.000000  \n",
       "75%          2.522470e+05        4.000000     10.000000  \n",
       "max          1.477187e+06        5.000000     10.000000  "
      ]
     },
     "execution_count": 3,
     "metadata": {},
     "output_type": "execute_result"
    }
   ],
   "source": [
    "df.describe()"
   ]
  },
  {
   "cell_type": "code",
   "execution_count": 4,
   "metadata": {},
   "outputs": [
    {
     "data": {
      "text/plain": [
       "Id                       0\n",
       "Artist Name              0\n",
       "Track Name               0\n",
       "Popularity             333\n",
       "danceability             0\n",
       "energy                   0\n",
       "key                   1609\n",
       "loudness                 0\n",
       "mode                     0\n",
       "speechiness              0\n",
       "acousticness             0\n",
       "instrumentalness      3541\n",
       "liveness                 0\n",
       "valence                  0\n",
       "tempo                    0\n",
       "duration_in min/ms       0\n",
       "time_signature           0\n",
       "Class                    0\n",
       "dtype: int64"
      ]
     },
     "execution_count": 4,
     "metadata": {},
     "output_type": "execute_result"
    }
   ],
   "source": [
    "df.isna().sum()"
   ]
  },
  {
   "cell_type": "markdown",
   "metadata": {},
   "source": [
    "#### we have three missing artbuite values ####"
   ]
  },
  {
   "cell_type": "markdown",
   "metadata": {},
   "source": [
    "### used the over all mean populerty for each  artiest ### "
   ]
  },
  {
   "cell_type": "code",
   "execution_count": 5,
   "metadata": {},
   "outputs": [
    {
     "name": "stdout",
     "output_type": "stream",
     "text": [
      "0\n"
     ]
    },
    {
     "name": "stderr",
     "output_type": "stream",
     "text": [
      "C:\\Users\\f1930\\AppData\\Local\\Temp\\ipykernel_2952\\1837852361.py:5: FutureWarning: A value is trying to be set on a copy of a DataFrame or Series through chained assignment using an inplace method.\n",
      "The behavior will change in pandas 3.0. This inplace method will never work because the intermediate object on which we are setting values always behaves as a copy.\n",
      "\n",
      "For example, when doing 'df[col].method(value, inplace=True)', try using 'df.method({col: value}, inplace=True)' or df[col] = df[col].method(value) instead, to perform the operation inplace on the original object.\n",
      "\n",
      "\n",
      "  df['Popularity'].fillna(overall_mean_popularity, inplace=True)\n"
     ]
    }
   ],
   "source": [
    "# Calculate the overall mean popularity\n",
    "overall_mean_popularity = df['Popularity'].mean()\n",
    "\n",
    "df['Popularity'].fillna(overall_mean_popularity, inplace=True)\n",
    "\n",
    "print(df['Popularity'].isnull().sum())\n"
   ]
  },
  {
   "cell_type": "code",
   "execution_count": 13,
   "metadata": {},
   "outputs": [],
   "source": [
    "#### from my understanding if there is null values in data that means its 0 (for key artbuite) ####"
   ]
  },
  {
   "cell_type": "code",
   "execution_count": 6,
   "metadata": {},
   "outputs": [
    {
     "name": "stderr",
     "output_type": "stream",
     "text": [
      "C:\\Users\\f1930\\AppData\\Local\\Temp\\ipykernel_2952\\2034413704.py:1: FutureWarning: A value is trying to be set on a copy of a DataFrame or Series through chained assignment using an inplace method.\n",
      "The behavior will change in pandas 3.0. This inplace method will never work because the intermediate object on which we are setting values always behaves as a copy.\n",
      "\n",
      "For example, when doing 'df[col].method(value, inplace=True)', try using 'df.method({col: value}, inplace=True)' or df[col] = df[col].method(value) instead, to perform the operation inplace on the original object.\n",
      "\n",
      "\n",
      "  df['key'].fillna(0, inplace=True)\n"
     ]
    },
    {
     "data": {
      "text/plain": [
       "0"
      ]
     },
     "execution_count": 6,
     "metadata": {},
     "output_type": "execute_result"
    }
   ],
   "source": [
    "df['key'].fillna(0, inplace=True)\n",
    "df['key'].isnull().sum()"
   ]
  },
  {
   "cell_type": "code",
   "execution_count": 14,
   "metadata": {},
   "outputs": [],
   "source": [
    "### same thing of they for instrumentalness ###"
   ]
  },
  {
   "cell_type": "code",
   "execution_count": 7,
   "metadata": {},
   "outputs": [
    {
     "name": "stderr",
     "output_type": "stream",
     "text": [
      "C:\\Users\\f1930\\AppData\\Local\\Temp\\ipykernel_2952\\587728271.py:1: FutureWarning: A value is trying to be set on a copy of a DataFrame or Series through chained assignment using an inplace method.\n",
      "The behavior will change in pandas 3.0. This inplace method will never work because the intermediate object on which we are setting values always behaves as a copy.\n",
      "\n",
      "For example, when doing 'df[col].method(value, inplace=True)', try using 'df.method({col: value}, inplace=True)' or df[col] = df[col].method(value) instead, to perform the operation inplace on the original object.\n",
      "\n",
      "\n",
      "  df['instrumentalness'].fillna(0, inplace=True)\n"
     ]
    },
    {
     "data": {
      "text/plain": [
       "0"
      ]
     },
     "execution_count": 7,
     "metadata": {},
     "output_type": "execute_result"
    }
   ],
   "source": [
    "df['instrumentalness'].fillna(0, inplace=True)\n",
    "df['instrumentalness'].isnull().sum()"
   ]
  },
  {
   "cell_type": "code",
   "execution_count": 8,
   "metadata": {},
   "outputs": [
    {
     "data": {
      "text/plain": [
       "Id                    0\n",
       "Artist Name           0\n",
       "Track Name            0\n",
       "Popularity            0\n",
       "danceability          0\n",
       "energy                0\n",
       "key                   0\n",
       "loudness              0\n",
       "mode                  0\n",
       "speechiness           0\n",
       "acousticness          0\n",
       "instrumentalness      0\n",
       "liveness              0\n",
       "valence               0\n",
       "tempo                 0\n",
       "duration_in min/ms    0\n",
       "time_signature        0\n",
       "Class                 0\n",
       "dtype: int64"
      ]
     },
     "execution_count": 8,
     "metadata": {},
     "output_type": "execute_result"
    }
   ],
   "source": [
    "df.isnull().sum()"
   ]
  },
  {
   "cell_type": "markdown",
   "metadata": {},
   "source": [
    "### we make the boxplot to see the outliers of the data  ###"
   ]
  },
  {
   "cell_type": "code",
   "execution_count": 11,
   "metadata": {},
   "outputs": [
    {
     "data": {
      "image/png": "[encoded data removed]",
      "text/plain": [
       "<Figure size 640x480 with 1 Axes>"
      ]
     },
     "metadata": {},
     "output_type": "display_data"
    },
    {
     "data": {
      "image/png": "[encoded data removed]",
      "text/plain": [
       "<Figure size 640x480 with 1 Axes>"
      ]
     },
     "metadata": {},
     "output_type": "display_data"
    },
    {
     "data": {
      "image/png": "[encoded data removed]",
      "text/plain": [
       "<Figure size 640x480 with 1 Axes>"
      ]
     },
     "metadata": {},
     "output_type": "display_data"
    },
    {
     "data": {
      "image/png": "[encoded data removed]",
      "text/plain": [
       "<Figure size 640x480 with 1 Axes>"
      ]
     },
     "metadata": {},
     "output_type": "display_data"
    },
    {
     "data": {
      "image/png": "[encoded data removed]",
      "text/plain": [
       "<Figure size 640x480 with 1 Axes>"
      ]
     },
     "metadata": {},
     "output_type": "display_data"
    },
    {
     "data": {
      "image/png": "[encoded data removed]",
      "text/plain": [
       "<Figure size 640x480 with 1 Axes>"
      ]
     },
     "metadata": {},
     "output_type": "display_data"
    },
    {
     "data": {
      "image/png": "[encoded data removed]",
      "text/plain": [
       "<Figure size 640x480 with 1 Axes>"
      ]
     },
     "metadata": {},
     "output_type": "display_data"
    },
    {
     "data": {
      "image/png": "[encoded data removed]",
      "text/plain": [
       "<Figure size 640x480 with 1 Axes>"
      ]
     },
     "metadata": {},
     "output_type": "display_data"
    },
    {
     "data": {
      "image/png": "[encoded data removed]",
      "text/plain": [
       "<Figure size 640x480 with 1 Axes>"
      ]
     },
     "metadata": {},
     "output_type": "display_data"
    },
    {
     "data": {
      "image/png": "[encoded data removed]",
      "text/plain": [
       "<Figure size 640x480 with 1 Axes>"
      ]
     },
     "metadata": {},
     "output_type": "display_data"
    },
    {
     "data": {
      "image/png": "[encoded data removed]",
      "text/plain": [
       "<Figure size 640x480 with 1 Axes>"
      ]
     },
     "metadata": {},
     "output_type": "display_data"
    },
    {
     "data": {
      "image/png": "[encoded data removed]",
      "text/plain": [
       "<Figure size 640x480 with 1 Axes>"
      ]
     },
     "metadata": {},
     "output_type": "display_data"
    },
    {
     "data": {
      "image/png": "[encoded data removed]",
      "text/plain": [
       "<Figure size 640x480 with 1 Axes>"
      ]
     },
     "metadata": {},
     "output_type": "display_data"
    },
    {
     "data": {
      "image/png": "[encoded data removed]",
      "text/plain": [
       "<Figure size 640x480 with 1 Axes>"
      ]
     },
     "metadata": {},
     "output_type": "display_data"
    },
    {
     "data": {
      "image/png": "[encoded data removed]",
      "text/plain": [
       "<Figure size 640x480 with 1 Axes>"
      ]
     },
     "metadata": {},
     "output_type": "display_data"
    },
    {
     "data": {
      "image/png": "[encoded data removed]",
      "text/plain": [
       "<Figure size 640x480 with 1 Axes>"
      ]
     },
     "metadata": {},
     "output_type": "display_data"
    }
   ],
   "source": [
    "j=1\n",
    "for j in df.select_dtypes(exclude=['object']):\n",
    "  sns.boxplot(x=df[j])\n",
    "  plt.show()"
   ]
  },
  {
   "cell_type": "markdown",
   "metadata": {},
   "source": [
    "#### from the plot we can see that some of it has alot of outliers and some there is no outlier #### "
   ]
  },
  {
   "cell_type": "code",
   "execution_count": null,
   "metadata": {},
   "outputs": [],
   "source": []
  },
  {
   "cell_type": "code",
   "execution_count": null,
   "metadata": {},
   "outputs": [],
   "source": []
  }
 ],
 "metadata": {
  "kernelspec": {
   "display_name": "Python 3",
   "language": "python",
   "name": "python3"
  },
  "language_info": {
   "codemirror_mode": {
    "name": "ipython",
    "version": 3
   },
   "file_extension": ".py",
   "mimetype": "text/x-python",
   "name": "python",
   "nbconvert_exporter": "python",
   "pygments_lexer": "ipython3",
   "version": "3.12.3"
  }
 },
 "nbformat": 4,
 "nbformat_minor": 2
}
