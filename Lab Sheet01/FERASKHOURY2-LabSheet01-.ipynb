{
 "cells": [
  {
   "cell_type": "code",
   "execution_count": 15,
   "metadata": {},
   "outputs": [],
   "source": [
    "import numpy as np \n",
    "import pandas as pd \n",
    "import matplotlib.pyplot as plt"
   ]
  },
  {
   "cell_type": "code",
   "execution_count": 16,
   "metadata": {},
   "outputs": [
    {
     "name": "stdout",
     "output_type": "stream",
     "text": [
      "     x    y  class\n",
      "0  6.0  1.0      1\n",
      "1  2.0  2.0      1\n",
      "2  NaN  2.0      1\n",
      "3  5.0  NaN      2\n",
      "4  6.0  2.0      2\n"
     ]
    },
    {
     "data": {
      "text/html": [
       "<div>\n",
       "<style scoped>\n",
       "    .dataframe tbody tr th:only-of-type {\n",
       "        vertical-align: middle;\n",
       "    }\n",
       "\n",
       "    .dataframe tbody tr th {\n",
       "        vertical-align: top;\n",
       "    }\n",
       "\n",
       "    .dataframe thead th {\n",
       "        text-align: right;\n",
       "    }\n",
       "</style>\n",
       "<table border=\"1\" class=\"dataframe\">\n",
       "  <thead>\n",
       "    <tr style=\"text-align: right;\">\n",
       "      <th></th>\n",
       "      <th>x</th>\n",
       "      <th>y</th>\n",
       "      <th>class</th>\n",
       "    </tr>\n",
       "  </thead>\n",
       "  <tbody>\n",
       "    <tr>\n",
       "      <th>0</th>\n",
       "      <td>6.0</td>\n",
       "      <td>1.0</td>\n",
       "      <td>1</td>\n",
       "    </tr>\n",
       "    <tr>\n",
       "      <th>1</th>\n",
       "      <td>2.0</td>\n",
       "      <td>2.0</td>\n",
       "      <td>1</td>\n",
       "    </tr>\n",
       "    <tr>\n",
       "      <th>2</th>\n",
       "      <td>NaN</td>\n",
       "      <td>2.0</td>\n",
       "      <td>1</td>\n",
       "    </tr>\n",
       "    <tr>\n",
       "      <th>3</th>\n",
       "      <td>5.0</td>\n",
       "      <td>NaN</td>\n",
       "      <td>2</td>\n",
       "    </tr>\n",
       "    <tr>\n",
       "      <th>4</th>\n",
       "      <td>6.0</td>\n",
       "      <td>2.0</td>\n",
       "      <td>2</td>\n",
       "    </tr>\n",
       "  </tbody>\n",
       "</table>\n",
       "</div>"
      ],
      "text/plain": [
       "     x    y  class\n",
       "0  6.0  1.0      1\n",
       "1  2.0  2.0      1\n",
       "2  NaN  2.0      1\n",
       "3  5.0  NaN      2\n",
       "4  6.0  2.0      2"
      ]
     },
     "execution_count": 16,
     "metadata": {},
     "output_type": "execute_result"
    }
   ],
   "source": [
    "import pandas as pd   \n",
    "    # making dataframe using the uploaded csv dataset \n",
    "df = pd.read_csv(\"missingdata.csv\")   \n",
    "   # output the dataframe  \n",
    "print(df) \n",
    "df.head()"
   ]
  },
  {
   "cell_type": "code",
   "execution_count": 17,
   "metadata": {},
   "outputs": [
    {
     "data": {
      "text/plain": [
       "<bound method DataFrame.isnull of      x    y  class\n",
       "0  6.0  1.0      1\n",
       "1  2.0  2.0      1\n",
       "2  NaN  2.0      1\n",
       "3  5.0  NaN      2\n",
       "4  6.0  2.0      2>"
      ]
     },
     "execution_count": 17,
     "metadata": {},
     "output_type": "execute_result"
    }
   ],
   "source": [
    "df.isnull"
   ]
  },
  {
   "cell_type": "code",
   "execution_count": 18,
   "metadata": {},
   "outputs": [
    {
     "data": {
      "text/plain": [
       "x        1\n",
       "y        1\n",
       "class    0\n",
       "dtype: int64"
      ]
     },
     "execution_count": 18,
     "metadata": {},
     "output_type": "execute_result"
    }
   ],
   "source": [
    "df.isna().sum()"
   ]
  },
  {
   "cell_type": "code",
   "execution_count": 19,
   "metadata": {},
   "outputs": [
    {
     "data": {
      "text/plain": [
       "0    6.0\n",
       "1    2.0\n",
       "2    NaN\n",
       "3    5.0\n",
       "4    6.0\n",
       "Name: x, dtype: float64"
      ]
     },
     "execution_count": 19,
     "metadata": {},
     "output_type": "execute_result"
    }
   ],
   "source": [
    "df['x']"
   ]
  },
  {
   "cell_type": "code",
   "execution_count": 20,
   "metadata": {},
   "outputs": [
    {
     "name": "stdout",
     "output_type": "stream",
     "text": [
      "0\n"
     ]
    }
   ],
   "source": [
    "# Calculate the overall mean popularity\n",
    "x_mean = df['x'].mean()\n",
    "\n",
    "# Fill the remaining missing values with the overall mean popularity\n",
    "df['x'].fillna(x_mean, inplace=True)\n",
    "\n",
    "# Verify that there are no more missing values in the Popularity column\n",
    "print(df['x'].isnull().sum())\n"
   ]
  },
  {
   "cell_type": "code",
   "execution_count": 21,
   "metadata": {},
   "outputs": [
    {
     "data": {
      "text/plain": [
       "0    6.00\n",
       "1    2.00\n",
       "2    4.75\n",
       "3    5.00\n",
       "4    6.00\n",
       "Name: x, dtype: float64"
      ]
     },
     "execution_count": 21,
     "metadata": {},
     "output_type": "execute_result"
    }
   ],
   "source": [
    "df['x']"
   ]
  },
  {
   "cell_type": "code",
   "execution_count": 22,
   "metadata": {},
   "outputs": [
    {
     "name": "stdout",
     "output_type": "stream",
     "text": [
      "0\n"
     ]
    },
    {
     "name": "stderr",
     "output_type": "stream",
     "text": [
      "C:\\Users\\f1930\\AppData\\Local\\Temp\\ipykernel_4316\\78553493.py:5: FutureWarning: A value is trying to be set on a copy of a DataFrame or Series through chained assignment using an inplace method.\n",
      "The behavior will change in pandas 3.0. This inplace method will never work because the intermediate object on which we are setting values always behaves as a copy.\n",
      "\n",
      "For example, when doing 'df[col].method(value, inplace=True)', try using 'df.method({col: value}, inplace=True)' or df[col] = df[col].method(value) instead, to perform the operation inplace on the original object.\n",
      "\n",
      "\n",
      "  df['y'].fillna(y_mean, inplace=True)\n"
     ]
    }
   ],
   "source": [
    "# Calculate the overall mean popularity\n",
    "y_mean = df['y'].mean()\n",
    "\n",
    "# Fill the remaining missing values with the overall mean popularity\n",
    "df['y'].fillna(y_mean, inplace=True)\n",
    "\n",
    "# Verify that there are no more missing values in the Popularity column\n",
    "print(df['y'].isnull().sum())\n"
   ]
  },
  {
   "cell_type": "code",
   "execution_count": 23,
   "metadata": {},
   "outputs": [
    {
     "data": {
      "text/plain": [
       "0    1.00\n",
       "1    2.00\n",
       "2    2.00\n",
       "3    1.75\n",
       "4    2.00\n",
       "Name: y, dtype: float64"
      ]
     },
     "execution_count": 23,
     "metadata": {},
     "output_type": "execute_result"
    }
   ],
   "source": [
    "df['y']"
   ]
  },
  {
   "cell_type": "code",
   "execution_count": 24,
   "metadata": {},
   "outputs": [
    {
     "name": "stdout",
     "output_type": "stream",
     "text": [
      "      Name  Age  Salary\n",
      "0    Alice   25   50000\n",
      "1      Bob   32   60000\n",
      "2  Charlie   19   45000\n",
      "3    David   45   75000\n",
      "4      Eva   28   55000\n"
     ]
    }
   ],
   "source": [
    "import pandas as pd \n",
    "# Create a sample DataFrame \n",
    "data = {'Name': ['Alice', 'Bob', 'Charlie', 'David', 'Eva'], \n",
    "        'Age': [25, 32, 19, 45, 28], \n",
    "        'Salary': [50000, 60000, 45000, 75000, 55000]} \n",
    "df = pd.DataFrame(data) \n",
    "print(df) "
   ]
  },
  {
   "cell_type": "code",
   "execution_count": 25,
   "metadata": {},
   "outputs": [
    {
     "name": "stdout",
     "output_type": "stream",
     "text": [
      "<class 'pandas.core.frame.DataFrame'>\n",
      "RangeIndex: 5 entries, 0 to 4\n",
      "Data columns (total 3 columns):\n",
      " #   Column  Non-Null Count  Dtype \n",
      "---  ------  --------------  ----- \n",
      " 0   Name    5 non-null      object\n",
      " 1   Age     5 non-null      int64 \n",
      " 2   Salary  5 non-null      int64 \n",
      "dtypes: int64(2), object(1)\n",
      "memory usage: 252.0+ bytes\n"
     ]
    }
   ],
   "source": [
    "df.info()"
   ]
  },
  {
   "cell_type": "code",
   "execution_count": 26,
   "metadata": {},
   "outputs": [
    {
     "name": "stdout",
     "output_type": "stream",
     "text": [
      "             Age        Salary\n",
      "count   5.000000      5.000000\n",
      "mean   29.800000  57000.000000\n",
      "std     9.731393  11510.864433\n",
      "min    19.000000  45000.000000\n",
      "25%    25.000000  50000.000000\n",
      "50%    28.000000  55000.000000\n",
      "75%    32.000000  60000.000000\n",
      "max    45.000000  75000.000000\n"
     ]
    }
   ],
   "source": [
    "print(df.describe()) "
   ]
  },
  {
   "cell_type": "code",
   "execution_count": 27,
   "metadata": {},
   "outputs": [],
   "source": [
    "import pandas as pd\n",
    "\n",
    "# Assuming 'data' is a dictionary, convert it to a DataFrame\n",
    "data = pd.DataFrame(data)\n",
    "\n",
    "# Now you can use dropna and other DataFrame methods\n",
    "data.dropna(inplace=True)\n",
    "data.drop_duplicates(inplace=True)\n"
   ]
  },
  {
   "cell_type": "code",
   "execution_count": 28,
   "metadata": {},
   "outputs": [
    {
     "name": "stdout",
     "output_type": "stream",
     "text": [
      "Original DataFrame:\n",
      "     A    B  C\n",
      "0  1.0  NaN  1\n",
      "1  2.0  2.0  2\n",
      "2  NaN  3.0  3\n",
      "3  4.0  4.0  4\n",
      "4  5.0  NaN  5\n",
      "\n",
      "DataFrame after removing rows with missing values:\n",
      "     A    B  C\n",
      "1  2.0  2.0  2\n",
      "3  4.0  4.0  4\n",
      "\n",
      "DataFrame after imputing missing values with mean:\n",
      "     A    B  C\n",
      "0  1.0  3.0  1\n",
      "1  2.0  2.0  2\n",
      "2  3.0  3.0  3\n",
      "3  4.0  4.0  4\n",
      "4  5.0  3.0  5\n",
      "\n",
      "DataFrame after imputing missing values with forward fill:\n",
      "     A    B  C\n",
      "0  1.0  NaN  1\n",
      "1  2.0  2.0  2\n",
      "2  2.0  3.0  3\n",
      "3  4.0  4.0  4\n",
      "4  5.0  4.0  5\n"
     ]
    },
    {
     "name": "stderr",
     "output_type": "stream",
     "text": [
      "C:\\Users\\f1930\\AppData\\Local\\Temp\\ipykernel_4316\\3087743476.py:34: FutureWarning: DataFrame.fillna with 'method' is deprecated and will raise in a future version. Use obj.ffill() or obj.bfill() instead.\n",
      "  df_fill_ffill = df.fillna(method='ffill')\n"
     ]
    }
   ],
   "source": [
    "\n",
    " \n",
    " \n",
    "import pandas as pd \n",
    "import numpy as np \n",
    " \n",
    "# Create a sample DataFrame with missing data \n",
    "data = { \n",
    "    'A': [1, 2, np.nan, 4, 5], \n",
    "    'B': [np.nan, 2, 3, 4, np.nan], \n",
    "    'C': [1, 2, 3, 4, 5] \n",
    "} \n",
    " \n",
    "df = pd.DataFrame(data) \n",
    " \n",
    "# Display the original DataFrame \n",
    "print(\"Original DataFrame:\") \n",
    " \n",
    "\n",
    "print(df) \n",
    " \n",
    "# Removing rows with missing values using dropna() \n",
    "df_dropna = df.dropna() \n",
    " \n",
    "# Display the DataFrame after removing rows with missing values \n",
    "print(\"\\nDataFrame after removing rows with missing values:\") \n",
    "print(df_dropna) \n",
    " \n",
    "# Imputing missing values with the mean value using fillna() \n",
    "df_fill_mean = df.fillna(df.mean()) \n",
    " \n",
    "# Display the DataFrame after imputing missing values with the mean \n",
    "print(\"\\nDataFrame after imputing missing values with mean:\") \n",
    "print(df_fill_mean) \n",
    " \n",
    "# Imputing missing values with forward fill (method='ffill') using fillna() \n",
    "df_fill_ffill = df.fillna(method='ffill') \n",
    " \n",
    "# Display the DataFrame after imputing missing values with forward fill \n",
    "print(\"\\nDataFrame after imputing missing values with forward fill:\") \n",
    "print(df_fill_ffill) "
   ]
  },
  {
   "cell_type": "code",
   "execution_count": 29,
   "metadata": {},
   "outputs": [
    {
     "name": "stdout",
     "output_type": "stream",
     "text": [
      "Original DataFrame:\n"
     ]
    }
   ],
   "source": [
    "import pandas as pd \n",
    "import numpy as np \n",
    " \n",
    "# Create a sample DataFrame with missing data \n",
    "data = { \n",
    "    'A': [1, 2, np.nan, 4, 5], \n",
    "    'B': [np.nan, 2, 3, 4, np.nan], \n",
    "    'C': [1, 2, 3, 4, 5] \n",
    "} \n",
    " \n",
    "df = pd.DataFrame(data) \n",
    " \n",
    "# Display the original DataFrame \n",
    "print(\"Original DataFrame:\") \n"
   ]
  },
  {
   "cell_type": "code",
   "execution_count": 30,
   "metadata": {},
   "outputs": [
    {
     "name": "stdout",
     "output_type": "stream",
     "text": [
      "     A    B  C\n",
      "0  1.0  NaN  1\n",
      "1  2.0  2.0  2\n",
      "2  NaN  3.0  3\n",
      "3  4.0  4.0  4\n",
      "4  5.0  NaN  5\n",
      "\n",
      "DataFrame after removing rows with missing values:\n",
      "     A    B  C\n",
      "1  2.0  2.0  2\n",
      "3  4.0  4.0  4\n",
      "\n",
      "DataFrame after imputing missing values with mean:\n",
      "     A    B  C\n",
      "0  1.0  3.0  1\n",
      "1  2.0  2.0  2\n",
      "2  3.0  3.0  3\n",
      "3  4.0  4.0  4\n",
      "4  5.0  3.0  5\n",
      "\n",
      "DataFrame after imputing missing values with forward fill:\n",
      "     A    B  C\n",
      "0  1.0  NaN  1\n",
      "1  2.0  2.0  2\n",
      "2  2.0  3.0  3\n",
      "3  4.0  4.0  4\n",
      "4  5.0  4.0  5\n"
     ]
    },
    {
     "name": "stderr",
     "output_type": "stream",
     "text": [
      "C:\\Users\\f1930\\AppData\\Local\\Temp\\ipykernel_4316\\2129103335.py:18: FutureWarning: DataFrame.fillna with 'method' is deprecated and will raise in a future version. Use obj.ffill() or obj.bfill() instead.\n",
      "  df_fill_ffill = df.fillna(method='ffill')\n"
     ]
    }
   ],
   "source": [
    "print(df) \n",
    " \n",
    "# Removing rows with missing values using dropna() \n",
    "df_dropna = df.dropna() \n",
    " \n",
    "# Display the DataFrame after removing rows with missing values \n",
    "print(\"\\nDataFrame after removing rows with missing values:\") \n",
    "print(df_dropna) \n",
    " \n",
    "# Imputing missing values with the mean value using fillna() \n",
    "df_fill_mean = df.fillna(df.mean()) \n",
    " \n",
    "# Display the DataFrame after imputing missing values with the mean \n",
    "print(\"\\nDataFrame after imputing missing values with mean:\") \n",
    "print(df_fill_mean) \n",
    " \n",
    "# Imputing missing values with forward fill (method='ffill') using fillna() \n",
    "df_fill_ffill = df.fillna(method='ffill') \n",
    " \n",
    "# Display the DataFrame after imputing missing values with forward fill \n",
    "print(\"\\nDataFrame after imputing missing values with forward fill:\") \n",
    "print(df_fill_ffill) "
   ]
  },
  {
   "cell_type": "code",
   "execution_count": null,
   "metadata": {},
   "outputs": [
    {
     "data": {
      "text/plain": [
       "target\n",
       "0    50\n",
       "1    50\n",
       "2    50\n",
       "Name: count, dtype: int64"
      ]
     },
     "execution_count": 31,
     "metadata": {},
     "output_type": "execute_result"
    }
   ],
   "source": [
    "import pandas as pd \n",
    "from sklearn.datasets import load_iris \n",
    "import matplotlib.pyplot as plt \n",
    " \n",
    "iris = load_iris() \n",
    " \n",
    "iris_df = pd.DataFrame(data=iris.data, columns=iris.feature_names) \n",
    "iris_df['target'] = iris.target \n",
    " \n",
    " \n",
    "iris_df.head() \n",
    "iris_df.describe() \n",
    "iris_df.dtypes \n",
    "iris_df.isnull().sum() \n",
    " \n",
    "iris_df['target'].value_counts() "
   ]
  },
  {
   "cell_type": "code",
   "execution_count": null,
   "metadata": {},
   "outputs": [
    {
     "name": "stdout",
     "output_type": "stream",
     "text": [
      "Original DataFrame:\n",
      "   Age  Salary  Gender\n",
      "0   25   50000    Male\n",
      "1   32   60000  Female\n",
      "2   19   45000    Male\n",
      "3   45   75000    Male\n",
      "4   28   55000  Female\n",
      "\n",
      "DataFrame after Min-Max scaling for 'Age' and 'Salary' columns:\n",
      "        Age    Salary  Gender\n",
      "0  0.230769  0.166667    Male\n",
      "1  0.500000  0.500000  Female\n",
      "2  0.000000  0.000000    Male\n",
      "3  1.000000  1.000000    Male\n",
      "4  0.346154  0.333333  Female\n",
      "\n",
      "DataFrame after Z-score normalization for 'Age' and 'Salary' columns:\n",
      "        Age    Salary  Gender\n",
      "0 -0.551469 -0.679900    Male\n",
      "1  0.252757  0.291386  Female\n",
      "2 -1.240806 -1.165543    Male\n",
      "3  1.746319  1.748315    Male\n",
      "4 -0.206801 -0.194257  Female\n",
      "\n",
      "DataFrame after one-hot encoding for 'Gender' column:\n",
      "        Age    Salary  Gender_Female  Gender_Male\n",
      "0 -0.551469 -0.679900          False         True\n",
      "1  0.252757  0.291386           True        False\n",
      "2 -1.240806 -1.165543          False         True\n",
      "3  1.746319  1.748315          False         True\n",
      "4 -0.206801 -0.194257           True        False\n"
     ]
    }
   ],
   "source": [
    "import pandas as pd \n",
    "from sklearn.preprocessing import MinMaxScaler, StandardScaler, LabelEncoder, OneHotEncoder \n",
    " \n",
    "data = { \n",
    "    'Age': [25, 32, 19, 45, 28], \n",
    "    'Salary': [50000, 60000, 45000, 75000, 55000], \n",
    "    'Gender': ['Male', 'Female', 'Male', 'Male', 'Female'] \n",
    "} \n",
    " \n",
    "df = pd.DataFrame(data) \n",
    " \n",
    "print(\"Original DataFrame:\") \n",
    "print(df) \n",
    " \n",
    "scaler = MinMaxScaler() \n",
    "df[['Age', 'Salary']] = scaler.fit_transform(df[['Age', 'Salary']]) \n",
    " \n",
    "print(\"\\nDataFrame after Min-Max scaling for 'Age' and 'Salary' columns:\") \n",
    "print(df) \n",
    " \n",
    "scaler = StandardScaler() \n",
    "df[['Age', 'Salary']] = scaler.fit_transform(df[['Age', 'Salary']] ) \n",
    " \n",
    "print(\"\\nDataFrame after Z-score normalization for 'Age' and 'Salary' columns:\") \n",
    "print(df) \n",
    " \n",
    " \n",
    " \n",
    "df = pd.get_dummies(df, columns=['Gender'], prefix=['Gender']) \n",
    " \n",
    "print(\"\\nDataFrame after one-hot encoding for 'Gender' column:\") \n",
    "print(df)"
   ]
  },
  {
   "cell_type": "code",
   "execution_count": null,
   "metadata": {},
   "outputs": [],
   "source": []
  }
 ],
 "metadata": {
  "kernelspec": {
   "display_name": "Python 3",
   "language": "python",
   "name": "python3"
  },
  "language_info": {
   "codemirror_mode": {
    "name": "ipython",
    "version": 3
   },
   "file_extension": ".py",
   "mimetype": "text/x-python",
   "name": "python",
   "nbconvert_exporter": "python",
   "pygments_lexer": "ipython3",
   "version": "3.12.3"
  }
 },
 "nbformat": 4,
 "nbformat_minor": 2
}
